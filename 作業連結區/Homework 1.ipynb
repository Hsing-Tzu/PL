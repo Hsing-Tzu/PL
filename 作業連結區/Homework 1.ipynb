{
 "cells": [
  {
   "cell_type": "code",
   "execution_count": null,
   "id": "8f4442b6",
   "metadata": {},
   "outputs": [],
   "source": [
    "s1={\"刑事\",\"民事\"}\n",
    "s2={\"行政\",\"民事\"}\n",
    "\n",
    "print(s1&s2)#交集 s1.intersection(s2)\n",
    "print(s1|s2)#聯集 s1.union(s2)\n",
    "print(s1-s2)#差集 s1.difference(s2)\n",
    "print(s2-s1)#差集 s2.difference(s1)\n",
    "print(s1^s2)#對稱差集(聯集-交集) s1.symmetric_difference(s2)"
   ]
  }
 ],
 "metadata": {
  "kernelspec": {
   "display_name": "Python 3 (ipykernel)",
   "language": "python",
   "name": "python3"
  },
  "language_info": {
   "codemirror_mode": {
    "name": "ipython",
    "version": 3
   },
   "file_extension": ".py",
   "mimetype": "text/x-python",
   "name": "python",
   "nbconvert_exporter": "python",
   "pygments_lexer": "ipython3",
   "version": "3.9.12"
  }
 },
 "nbformat": 4,
 "nbformat_minor": 5
}
