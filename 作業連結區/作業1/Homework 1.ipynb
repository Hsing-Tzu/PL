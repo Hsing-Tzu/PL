{
 "cells": [
  {
   "cell_type": "code",
   "execution_count": 2,
   "id": "abd29a29",
   "metadata": {},
   "outputs": [],
   "source": [
    "import pandas as pd #使用pandas套件\n",
    "\n",
    "# read csv file\n",
    "allpark = pd.read_csv(\"allpark.csv\",encoding='big5') #csv存在同一個資料夾\n",
    "adoptedpark = pd.read_csv(\"adoptedpark.csv\",encoding='big5')"
   ]
  },
  {
   "cell_type": "code",
   "execution_count": null,
   "id": "d4a3e113",
   "metadata": {},
   "outputs": [],
   "source": []
  },
  {
   "cell_type": "code",
   "execution_count": null,
   "id": "8f4442b6",
   "metadata": {},
   "outputs": [],
   "source": [
    "s1={\"刑事\",\"民事\"}\n",
    "s2={\"行政\",\"民事\"}\n",
    "\n",
    "print(s1&s2)#交集 s1.intersection(s2)\n",
    "print(s1|s2)#聯集 s1.union(s2)\n",
    "print(s1-s2)#差集 s1.difference(s2)\n",
    "print(s2-s1)#差集 s2.difference(s1)\n",
    "print(s1^s2)#對稱差集(聯集-交集) s1.symmetric_difference(s2)"
   ]
  }
 ],
 "metadata": {
  "kernelspec": {
   "display_name": "Python 3 (ipykernel)",
   "language": "python",
   "name": "python3"
  },
  "language_info": {
   "codemirror_mode": {
    "name": "ipython",
    "version": 3
   },
   "file_extension": ".py",
   "mimetype": "text/x-python",
   "name": "python",
   "nbconvert_exporter": "python",
   "pygments_lexer": "ipython3",
   "version": "3.9.12"
  }
 },
 "nbformat": 4,
 "nbformat_minor": 5
}
