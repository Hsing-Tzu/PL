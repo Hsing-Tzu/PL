{
 "cells": [
  {
   "cell_type": "code",
   "execution_count": 34,
   "id": "060ab6f6",
   "metadata": {},
   "outputs": [
    {
     "name": "stdout",
     "output_type": "stream",
     "text": [
      "['師大學院', '學號結尾']\n",
      "[['教育學院', '文學院', '理學院', '科技與工程學院', '管理學院', '音樂學院', '藝術學院'], ['E', 'L', 'S', 'H', 'O', 'M', 'T']]\n",
      "科技與工程學院 H\n",
      "{'師大學院': ['教育學院', '文學院', '理學院', '科技與工程學院', '管理學院', '音樂學院', '藝術學院'], '學號結尾': ['E', 'L', 'S', 'H', 'O', 'M', 'T']}\n"
     ]
    }
   ],
   "source": [
    "d={\"師大學院\":[\"教育學院\",\"文學院\",\"理學院\",\"科技與工程學院\",\"管理學院\",\"音樂學院\",\"藝術學院\"],\n",
    "   \"學號結尾\":[\"E\",\"L\",\"S\",\"H\",\"O\",\"M\",\"T\"]}\n",
    "\n",
    "\n",
    "l1=list(d.keys()) #keys-->大標\n",
    "print(l1)\n",
    "l2=list(d.values()) #values-->小項目\n",
    "print(l2)\n",
    "\n",
    "\n",
    "print(d[\"師大學院\"][3],d[\"學號結尾\"][3]) #序號從零開始-->3是第四筆資料\n",
    "\n",
    "d[\"學號結尾\"]=[\"E\",\"L\",\"S\",\"H\",\"O\",\"M\",\"T\"]\n",
    "print(d)"
   ]
  },
  {
   "cell_type": "code",
   "execution_count": 36,
   "id": "084ddd77",
   "metadata": {},
   "outputs": [
    {
     "name": "stdout",
     "output_type": "stream",
     "text": [
      "輸入學院:理學院\n"
     ]
    }
   ],
   "source": [
    "3s = input(\"輸入學院:\")"
   ]
  },
  {
   "cell_type": "code",
   "execution_count": 40,
   "id": "e6eb42eb",
   "metadata": {},
   "outputs": [
    {
     "name": "stdout",
     "output_type": "stream",
     "text": [
      "你的學院 理學院\n",
      "學號結尾 S\n"
     ]
    }
   ],
   "source": [
    "print('你的學院',s)\n",
    "n = 0\n",
    "for i in d[\"師大學院\"]:  #s不能用因為s是輸入的代號,所以用新變數\n",
    "    if s == i:\n",
    "        print('學號結尾',d[\"學號結尾\"][n])\n",
    "    else:\n",
    "        n = n+1"
   ]
  }
 ],
 "metadata": {
  "kernelspec": {
   "display_name": "Python 3 (ipykernel)",
   "language": "python",
   "name": "python3"
  },
  "language_info": {
   "codemirror_mode": {
    "name": "ipython",
    "version": 3
   },
   "file_extension": ".py",
   "mimetype": "text/x-python",
   "name": "python",
   "nbconvert_exporter": "python",
   "pygments_lexer": "ipython3",
   "version": "3.9.12"
  }
 },
 "nbformat": 4,
 "nbformat_minor": 5
}
