{
 "cells": [
  {
   "cell_type": "code",
   "execution_count": 8,
   "id": "5c93e346",
   "metadata": {},
   "outputs": [
    {
     "name": "stdout",
     "output_type": "stream",
     "text": [
      "['師大文學院科系', '師大理學院科系']\n",
      "[['國文學系', '英語學系', '歷史學系', '地理學系', '臺灣語文學系', '翻譯研究所', '臺灣史研究所'], ['數學系', '物理學系', '化學系', '地球科學系(含海環所)', '資訊工程學系', '科學教育研究所', '環境教育研究所']]\n",
      "地理學系\n",
      "{'師大文學院科系': ['國文學系', '英語學系', '歷史學系', '地理學系', '臺灣語文學系', '翻譯研究所', '臺灣史研究所'], '師大理學院科系': ['數學系', '物理學系', '化學系', '地球科學系(含海環所)', '資訊工程學系', '科學教育研究所', '環境教育研究所']}\n"
     ]
    }
   ],
   "source": [
    "d={\"師大學院\":[\"教育學院\",\"文學院\",\"理學院\",\"科技與工程學院\",\"管理學院\",\"音樂學院\",\"藝術學院\"],\n",
    "   \"學號結尾\":[\"E\",\"L\",\"S\",\"H\",\"O\",\"M\",\"T\"]}\n",
    "\n",
    "\n",
    "l1=list(d.keys())\n",
    "print(l1)\n",
    "l2=list(d.values())\n",
    "print(l2)\n",
    "\n",
    "\n",
    "print(d[\"師大學院\"][3]) #序號從零開始-->3是第四筆資料\n",
    "\n",
    "d[\"學號結尾\"]=[\"E\",\"L\",\"S\",\"H\",\"O\",\"M\",\"T\"]\n",
    "print(d)"
   ]
  }
 ],
 "metadata": {
  "kernelspec": {
   "display_name": "Python 3 (ipykernel)",
   "language": "python",
   "name": "python3"
  },
  "language_info": {
   "codemirror_mode": {
    "name": "ipython",
    "version": 3
   },
   "file_extension": ".py",
   "mimetype": "text/x-python",
   "name": "python",
   "nbconvert_exporter": "python",
   "pygments_lexer": "ipython3",
   "version": "3.9.12"
  }
 },
 "nbformat": 4,
 "nbformat_minor": 5
}
