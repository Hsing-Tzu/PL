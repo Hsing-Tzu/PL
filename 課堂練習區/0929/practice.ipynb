{
 "cells": [
  {
   "cell_type": "code",
   "execution_count": 1,
   "id": "97796c07",
   "metadata": {},
   "outputs": [
    {
     "name": "stdout",
     "output_type": "stream",
     "text": [
      "觸犯道路交通管理處罰條例人員名單\n"
     ]
    }
   ],
   "source": [
    "print('觸犯道路交通管理處罰條例人員名單')\n",
    "A = {'name':'阿程','age':34,'罪責':{'第16條':'裝置高音量喇叭或其他產生噪音器物','第17條':'汽車不依限期參加定期檢驗或臨時檢驗',\n",
    "                                 '第62條':'汽車駕駛人駕駛汽車肇事','第21條':'未領有駕駛執照駕駛小型車或機車'},\n",
    "                          '罰鍰':{'第16條':1600,'第17條':1500,'第62條':2500,'第21條':10500}}\n",
    "\n",
    "B = {'name':'阿力','age':29,'罪責':{'第12條':'汽車使用吊銷、註銷之牌照'},\n",
    "                          '罰鍰':{'第12條':5000}}\n",
    "\n",
    "C = {'name':'阿瑤','age':58,'罪責':{'第82條':'未經許可在道路擺設攤位','第56條':'在禁止臨時停車處所停車'},\n",
    "                          '罰鍰':{'第82條':2000,'第56條':1000}}"
   ]
  }
 ],
 "metadata": {
  "kernelspec": {
   "display_name": "Python 3 (ipykernel)",
   "language": "python",
   "name": "python3"
  },
  "language_info": {
   "codemirror_mode": {
    "name": "ipython",
    "version": 3
   },
   "file_extension": ".py",
   "mimetype": "text/x-python",
   "name": "python",
   "nbconvert_exporter": "python",
   "pygments_lexer": "ipython3",
   "version": "3.9.12"
  }
 },
 "nbformat": 4,
 "nbformat_minor": 5
}
