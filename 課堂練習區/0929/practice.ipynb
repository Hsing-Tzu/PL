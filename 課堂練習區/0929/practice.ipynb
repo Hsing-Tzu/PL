{
 "cells": [
  {
   "cell_type": "code",
   "execution_count": 1,
   "id": "415863d0",
   "metadata": {},
   "outputs": [
    {
     "data": {
      "text/plain": [
       "dict"
      ]
     },
     "execution_count": 1,
     "metadata": {},
     "output_type": "execute_result"
    }
   ],
   "source": [
    "A = {'第16條':'裝置高音量喇叭或其他產生噪音器物','第17條':'汽車不依限期參加定期檢驗或臨時檢驗',\n",
    "     '第62條':'汽車駕駛人駕駛汽車肇事','第21條':'未領有駕駛執照駕駛小型車或機車'}\n",
    "B = {'第12條':'汽車使用吊銷、註銷之牌照'}\n",
    "C = {'第82條':'未經許可在道路擺設攤位','第56條':'在禁止臨時停車處所停車'}\n",
    "\n",
    "a = {'第16條':1600,'第17條':1500,'第62條':2500,'第21條':10500}\n",
    "b = {'第12條':5000}\n",
    "c = {'第82條':2000,'第56條':1000}\n",
    "type(a)"
   ]
  },
  {
   "cell_type": "code",
   "execution_count": 14,
   "id": "13a6e91c",
   "metadata": {},
   "outputs": [],
   "source": [
    "d = {\"名字\":[\"阿程\",\"阿力\",\"阿瑤\"],\n",
    "     \"年齡\":[\"34\",\"29\",\"58\"],\n",
    "     \"罪責\":[A,B,C],\n",
    "     \"罰鍰\":[a,b,c]}"
   ]
  },
  {
   "cell_type": "code",
   "execution_count": 15,
   "id": "ce2319fb",
   "metadata": {},
   "outputs": [
    {
     "name": "stdout",
     "output_type": "stream",
     "text": [
      "{'第16條': '裝置高音量喇叭或其他產生噪音器物', '第17條': '汽車不依限期參加定期檢驗或臨時檢驗', '第62條': '汽車駕駛人駕駛汽車肇事', '第21條': '未領有駕駛執照駕駛小型車或機車'} {'第82條': 2000, '第56條': 1000}\n"
     ]
    }
   ],
   "source": [
    "print(d[\"罪責\"][0],d[\"罰鍰\"][2])"
   ]
  },
  {
   "cell_type": "code",
   "execution_count": null,
   "id": "151b7e4d",
   "metadata": {},
   "outputs": [],
   "source": []
  }
 ],
 "metadata": {
  "kernelspec": {
   "display_name": "Python 3 (ipykernel)",
   "language": "python",
   "name": "python3"
  },
  "language_info": {
   "codemirror_mode": {
    "name": "ipython",
    "version": 3
   },
   "file_extension": ".py",
   "mimetype": "text/x-python",
   "name": "python",
   "nbconvert_exporter": "python",
   "pygments_lexer": "ipython3",
   "version": "3.9.12"
  }
 },
 "nbformat": 4,
 "nbformat_minor": 5
}
